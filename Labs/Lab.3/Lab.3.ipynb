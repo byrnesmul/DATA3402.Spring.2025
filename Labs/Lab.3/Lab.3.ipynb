{
 "cells": [
  {
   "cell_type": "markdown",
   "metadata": {},
   "source": [
    "# Lab 3\n",
    "\n",
    "In this lab we will become familiar with distributions, histograms, and functional programming. Do not use numpy or any other library for this lab.\n",
    "\n",
    "Before that, lets get setup homework submission and submit your previous lab.  \n",
    "\n",
    "## Working on the Command-line.\n",
    "\n",
    "It is important for you to learn to work on the command line and to be familiar with the Unix environment (e.g. Linux, Mac OS, or Windows Linux Subsystem). We'll go over working on the command-line in detail later in the course.\n",
    "\n",
    "You are required to submit your work in this course via GitHub. Today in class, you will setup everything on the command-line.\n",
    "\n",
    "### Command-line basics\n",
    "\n",
    "There is plenty of material online that will help you figure out how to do various tasks on the command line. Commands you may need to know today:\n",
    "\n",
    "* `ls`: lists the contents of the current directory.\n",
    "* `pwd`: prints the path of the current directory.\n",
    "* `cd <directory>`: changes your current directory to the specified directory.\n",
    "* `cd ..`: changes current directory to the previous directory. Basically steps out of the current directory to the directory containing the current directory.\n",
    "* `mkdir <directory>`: create a new directory with the specified name.\n",
    "* `rmdir <directory>`: removes the specified directory. Note it has to be empty.\n",
    "* `rm <filename>`: deletes the specified file.\n",
    "* `mv <filename 1> <filename 2>`: Moves or renames a file.\n",
    "* `cp <filename 1> <filename 2>`: copies an file. If you just provide a path to a directory, it copies the file into that directory with the same filename. If you specifiy a new filename, the copy has a new name. For example `cp File.1.txt File.2.txt` creates a copy of `File.1.txt` with the name `File.2.txt`. Meanwhile `cp File.1.txt my_directory`, where `my_directory` is a directory, creates a copy of `File.1.txt` in directory `my_directory` with the name `File.1.txt`.\n",
    "\n",
    "For reference, here are some example resources I found by googling:\n",
    "\n",
    "* Paths and Wildcards: https://www.warp.dev/terminus/linux-wildcards\n",
    "* Basic commands like copy: https://kb.iu.edu/d/afsk\n",
    "* General introduction to shell: https://github-pages.ucl.ac.uk/RCPSTrainingMaterials/HPCandHTCusingLegion/2_intro_to_shell.html\n",
    "* Manual pages: https://www.geeksforgeeks.org/linux-man-page-entries-different-types/?ref=ml_lbp\n",
    "* Chaining commands: https://www.geeksforgeeks.org/chaining-commands-in-linux/?ref=ml_lbp\n",
    "* Piping: https://www.geeksforgeeks.org/piping-in-unix-or-linux/\n",
    "* Using sed: https://www.geeksforgeeks.org/sed-command-linux-set-2/?ref=ml_lbp\n",
    "* Various Unix commands: https://www.geeksforgeeks.org/linux-commands/?ref=lbp\n",
    "* Cheat sheets:\n",
    "    * https://www.stationx.net/unix-commands-cheat-sheet/\n",
    "    * https://cheatography.com/davechild/cheat-sheets/linux-command-line/\n",
    "    * https://www.theknowledgeacademy.com/blog/unix-commands-cheat-sheet/\n",
    "    \n",
    "These aren't necessarily the best resources. Feel free to search for better ones. Also, don't forget that Unix has built-in manual pages for all of its commands. Just type `man <command>` at the command prompt. Use the space-bar to scroll through the documentation and \"q\" to exit.\n",
    "\n",
    "\n",
    "### Setup and Submission\n",
    "\n",
    "Our course repository is public. The instructions here aim to have you setup a fork of the course repository. Unfortunately because you are forking a public repo, your fork will have to be public also. \n",
    "\n",
    "You should be familiar with git from the first semester of this course. I assume that you all have github accounts and have setup things to be able to [push to github using ssh](https://docs.github.com/en/github/authenticating-to-github/connecting-to-github-with-ssh). The instuctions here lead you to:\n",
    "\n",
    "We'll overview what you will do before going through step by step instructions.\n",
    "\n",
    "1. Setup:\n",
    "    1. Fork the class repository. Some directions in [fork-a-repo](https://docs.github.com/en/github/getting-started-with-github/fork-a-repo).\n",
    "    1. Create a directory on your personal system where you will keep all course materials.\n",
    "    1. In that directory, clone your fork of the repository.\n",
    "    1. Using `git remote`, set the upstream to be the class repo, so you can pull from the class and push to your fork.\n",
    "\n",
    "1. Submission:\n",
    "    1. Copy your solutions into the appropriate directory (e.g. into `Labs/Lab.2/`) and with appropriate filename `Lab.2.solution.ipynb'.\n",
    "    1. Commit / push your solutions.\n",
    " \n",
    "Below are step by step instructions with examples (including example directory naming convention). Feel free to modify things as you see fit. \n",
    "\n",
    "#### Setup\n",
    "You should only need to follow this instructions once. Here are some useful git commands:\n",
    "\n",
    "* Git help: `git help`\n",
    "* Git remote help: `git help remote`\n",
    "* Check remote status: `git remote -v`\n",
    "* Add a remote: `git remote add <stream name> <repo URL>`\n",
    "* Add a remove: `git remote remove <stream name>`\n",
    "\n",
    "Steps:\n",
    "1. In a browser, log into GitHub and navigate to the [course repository](https://github.com/UTA-DataScience/DATA3402.Spring.2025).\n",
    "1. On the top right of the page, press the fork button to create a new fork into your own GitHub account.\n",
    "1. After successful fork, you should find the browser showing your fork of the course repository. Use the green \"Code\" button to copy path to the repo into your the clipboard of your computer.\n",
    "1. Open a shell on your personal computer.\n",
    "1. If you have not done so already, create a new directory/folder where you will keep all course material to navigate to it. For example: `mkdir Data-3402` and `cd Data-3402`.\n",
    "1. Clone your fork of the repository using `git clone` followed by the path you copied into your clipboard. (copy/paste)\n",
    "1. Paste the URL to your fork in the worksheet for the TAs and instructors.\n",
    "1. Now go into the directory of your clone (`cd DATA3402.Spring.2025`).\n",
    "1. Type `git remote -v` to see the current setup for fetch and pull.\n",
    "1. Note the URL you see. This should be the same as what you used for your clone for both push and fetch.\n",
    "1. Delete the origin remote using `git remote remove origin`.\n",
    "1. Add the course repo as your remote using `git remote add origin https://github.com/UTA-DataScience/DATA3402.Spring.2025.git`.\n",
    "1. Change the push to point to your fork. This means you will need the URL to your clone we copied earlier and confirmed as the original origin. The command will look something like: `git remote set-url --push origin  https://github.com/XXXXXX/DATA3402.Spring.2025.git`, where XXXXX is your username on GitHub.\n",
    "1. Note that if you setup everything correctly, you now should be able to do `git pull` to get updates from the course repo, and do `git push` to push your commits into your own fork.\n",
    "\n",
    "### Submission\n",
    "These instructions outline how you submit files. Some useful commands:\n",
    "* To add a file to local repository: `git add <file>`.\n",
    "* To commit all changed files into local repository: `git -a -m \"A message\"`. You need to provide some comment when you commit. \n",
    "* To push the commited files from the local repository to GitHub: `git push`.\n",
    "* To get updates from GitHub: `git pull`.\n",
    "\n",
    "Steps:\n",
    "1. To submit your labs, navigate to your clone of your fork of the course repository. \n",
    "1. Use `git pull` to make sure you have the latest updates. \n",
    "1. Make sure your copy of the lab your are working on is in the appropriate place in this clone. That means if you have the file elsewhere, copy it to the same directory in your clone of your fork. \n",
    "1. Note that in order to avoid future conflicts, you should always name your solution differently than the original file in the class repo. For example if your file is still named `Lab.2.ipynb` you should rename it using the `mv` command: `mv Lab.2.ipynb Lab.2.solution.ipynb`. \n",
    "1. Add and files you wish to submit into the repo. For example: `git add Labs/Lab.2/Lab.2.solution.ipynb`\n",
    "1. Commit any changes: `git commit -a -m \"Lab 2 updates\"`\n",
    "1. Push your changes: `git push`\n",
    "1. Check on github website that your solutions have been properly submitted.\n",
    "\n",
    "Before you leave the session today, make sure your GitHub Repo is setup. If you need to work further on your lab, navigate jupyter to the copy of the lab you just submitted and work there. Once done, repeat the commit and push commands to submit your updated solution. Note that lab 2 is due by midnight Friay 1/31/2025.\n"
   ]
  },
  {
   "cell_type": "markdown",
   "metadata": {},
   "source": [
    "### Uniform Distribution\n",
    "Lets start with generating some fake random data. You can get a random number between 0 and 1 using the python random module as follow:"
   ]
  },
  {
   "cell_type": "code",
   "execution_count": 1,
   "metadata": {},
   "outputs": [
    {
     "name": "stdout",
     "output_type": "stream",
     "text": [
      "The Value of x is 0.2879606011662914\n"
     ]
    }
   ],
   "source": [
    "import random\n",
    "x=random.random()\n",
    "print(\"The Value of x is\", x)"
   ]
  },
  {
   "cell_type": "markdown",
   "metadata": {},
   "source": [
    "Everytime you call random, you will get a new number.\n",
    "\n",
    "*Exercise 1:* Using random, write a function `generate_uniform(N, mymin, mymax)`, that returns a python list containing N random numbers between specified minimum and maximum value. Note that you may want to quickly work out on paper how to turn numbers between 0 and 1 to between other values. "
   ]
  },
  {
   "cell_type": "code",
   "execution_count": 2,
   "metadata": {},
   "outputs": [],
   "source": [
    "# Skeleton\n",
    "\n",
    "import random\n",
    "\n",
    "def generate_uniform(N, mymin, mymax):\n",
    "    out = []\n",
    "    for _ in range(N):\n",
    "        value = mymin + (mymax - mymin) * random.random()\n",
    "        out.append(value)\n",
    "    return out\n"
   ]
  },
  {
   "cell_type": "code",
   "execution_count": 3,
   "metadata": {},
   "outputs": [
    {
     "name": "stdout",
     "output_type": "stream",
     "text": [
      "Data Type: <class 'list'>\n",
      "Data Length: 1000\n",
      "Type of Data Contents: <class 'float'>\n",
      "Data Minimum: -9.985681514105744\n",
      "Data Maximum: 9.92460474070225\n"
     ]
    }
   ],
   "source": [
    "# Test your solution here\n",
    "data=generate_uniform(1000,-10,10)\n",
    "print (\"Data Type:\", type(data))\n",
    "print (\"Data Length:\", len(data))\n",
    "if len(data)>0: \n",
    "    print (\"Type of Data Contents:\", type(data[0]))\n",
    "    print (\"Data Minimum:\", min(data))\n",
    "    print (\"Data Maximum:\", max(data))"
   ]
  },
  {
   "cell_type": "markdown",
   "metadata": {},
   "source": [
    "*Exercise 2a:* \n",
    "Write a function that computes the mean of values in a list. Recall the equation for the mean of a random variable $\\bf{x}$ computed on a data set of $n$ values $\\{ x_i \\} = \\{x_1, x_2, ..., x_n\\}$  is ${\\bf\\bar{x}} = \\frac{1}{n} \\sum_i^n x_i$."
   ]
  },
  {
   "cell_type": "code",
   "execution_count": 4,
   "metadata": {},
   "outputs": [],
   "source": [
    "# Skeleton\n",
    "def mean(Data):\n",
    "    total = 0\n",
    "    for x in Data:\n",
    "        total += x\n",
    "    return total / len(Data)\n"
   ]
  },
  {
   "cell_type": "code",
   "execution_count": 5,
   "metadata": {},
   "outputs": [
    {
     "name": "stdout",
     "output_type": "stream",
     "text": [
      "Mean of Data: 0.11308577210022618\n"
     ]
    }
   ],
   "source": [
    "# Test your solution here\n",
    "print (\"Mean of Data:\", mean(data))"
   ]
  },
  {
   "cell_type": "markdown",
   "metadata": {},
   "source": [
    "*Exercise 2b:* \n",
    "Write a function that computes the variance of values in a list. Recall the equation for the variance of a random variable $\\bf{x}$ computed on a data set of $n$ values $\\{ x_i \\} = \\{x_1, x_2, ..., x_n\\}$  is ${\\bf\\langle x \\rangle} = \\frac{1}{n-1} \\sum_i^n (x_i - {\\bf\\bar{x}})^2$."
   ]
  },
  {
   "cell_type": "code",
   "execution_count": 6,
   "metadata": {},
   "outputs": [],
   "source": [
    "# Skeleton\n",
    "def variance(Data):\n",
    "    m = mean(Data)\n",
    "    total = 0\n",
    "    for x in Data:\n",
    "        total += (x - m) ** 2\n",
    "    return total / (len(Data) - 1)\n"
   ]
  },
  {
   "cell_type": "code",
   "execution_count": 7,
   "metadata": {},
   "outputs": [
    {
     "name": "stdout",
     "output_type": "stream",
     "text": [
      "Variance of Data: 33.960056844054066\n"
     ]
    }
   ],
   "source": [
    "# Test your solution here\n",
    "print (\"Variance of Data:\", variance(data))"
   ]
  },
  {
   "cell_type": "markdown",
   "metadata": {},
   "source": [
    "## Histogramming"
   ]
  },
  {
   "cell_type": "markdown",
   "metadata": {},
   "source": [
    "*Exercise 3:* Write a function that bins the data so that you can create a histogram. An example of how to implement histogramming is the following logic:\n",
    "\n",
    "* User inputs a list of values `x` and optionally `n_bins` which defaults to 10.\n",
    "* If not supplied, find the minimum and maximum (`x_min`,`x_max`) of the values in x.\n",
    "* Determine the bin size (`bin_size`) by dividing the range of the function by the number of bins.\n",
    "* Create an empty list of zeros of size `n_bins`, call it `hist`.\n",
    "* Loop over the values in `x`\n",
    "    * Loop over the values in `hist` with index `i`:\n",
    "        * If x is between `x_min+i*bin_size` and `x_min+(i+1)*bin_size`, increment `hist[i].` \n",
    "        * For efficiency, try to use continue to goto the next bin and data point.\n",
    "* Return `hist` and the list corresponding of the bin edges (i.e. of `x_min+i*bin_size`).    "
   ]
  },
  {
   "cell_type": "code",
   "execution_count": 10,
   "metadata": {},
   "outputs": [],
   "source": [
    "# Solution\n",
    "def histogram(x, n_bins=10, x_min=None, x_max=None):\n",
    "    if x_min is None:\n",
    "        x_min = min(x)\n",
    "    if x_max is None:\n",
    "        x_max = max(x)\n",
    "\n",
    "    hist = [0] * n_bins\n",
    "    bin_width = (x_max - x_min) / n_bins\n",
    "\n",
    "    # Create bin edges list\n",
    "    bin_edges = [x_min + i * bin_width for i in range(n_bins + 1)]\n",
    "\n",
    "    for val in x:\n",
    "        if x_min <= val < x_max:\n",
    "            bin_index = int((val - x_min) / bin_width)\n",
    "            if bin_index == n_bins:\n",
    "                bin_index -= 1\n",
    "            hist[bin_index] += 1\n",
    "\n",
    "    return hist, bin_edges\n",
    "\n"
   ]
  },
  {
   "cell_type": "code",
   "execution_count": 11,
   "metadata": {},
   "outputs": [
    {
     "name": "stdout",
     "output_type": "stream",
     "text": [
      "[7, 8, 14, 12, 10, 10, 4, 10, 8, 10, 11, 11, 10, 14, 5, 13, 11, 2, 9, 9, 9, 17, 9, 10, 15, 9, 13, 11, 12, 9, 5, 6, 12, 5, 14, 18, 11, 13, 7, 9, 7, 6, 8, 15, 6, 12, 7, 12, 8, 13, 11, 11, 7, 11, 11, 14, 7, 9, 15, 2, 13, 7, 5, 11, 11, 8, 11, 10, 9, 7, 13, 6, 9, 7, 7, 9, 11, 7, 12, 8, 13, 16, 12, 10, 12, 14, 10, 12, 9, 7, 13, 8, 3, 6, 11, 11, 19, 7, 17, 14]\n"
     ]
    }
   ],
   "source": [
    "# Test your solution here\n",
    "h,b=histogram(data,100)\n",
    "print(h)"
   ]
  },
  {
   "cell_type": "markdown",
   "metadata": {},
   "source": [
    "*Exercise 4:* Write a function that uses the histogram function in the previous exercise to create a text-based \"graph\". For example the output could look like the following:\n",
    "```\n",
    "[  0,  1] : ######\n",
    "[  1,  2] : #####\n",
    "[  2,  3] : ######\n",
    "[  3,  4] : ####\n",
    "[  4,  5] : ####\n",
    "[  5,  6] : ######\n",
    "[  6,  7] : #####\n",
    "[  7,  8] : ######\n",
    "[  8,  9] : ####\n",
    "[  9, 10] : #####\n",
    "```\n",
    "\n",
    "Where each line corresponds to a bin and the number of `#`'s are proportional to the value of the data in the bin. "
   ]
  },
  {
   "cell_type": "code",
   "execution_count": 14,
   "metadata": {},
   "outputs": [],
   "source": [
    "# Solution\n",
    "def draw_histogram(hist, bin_edges, character=\"#\", max_character_per_line=20):\n",
    "    max_count = max(hist)\n",
    "    scale = max_character_per_line / max_count if max_count > 0 else 1\n",
    "\n",
    "    for i in range(len(hist)):\n",
    "        left = round(bin_edges[i], 2)\n",
    "        right = round(bin_edges[i+1], 2)\n",
    "        bar = character * int(hist[i] * scale)\n",
    "        print(f\"[{left:>4}, {right:<4}] : {bar}\")\n",
    "\n",
    "    return hist, bin_edges\n"
   ]
  },
  {
   "cell_type": "code",
   "execution_count": 15,
   "metadata": {},
   "outputs": [
    {
     "name": "stdout",
     "output_type": "stream",
     "text": [
      "[51, 42, 51, 44, 60, 54, 42, 58, 42, 52, 51, 47, 47, 45, 42, 47, 63, 52, 41, 68]\n"
     ]
    }
   ],
   "source": [
    "# Test your solution here\n",
    "h,b=histogram(data,20)\n",
    "print(h)"
   ]
  },
  {
   "cell_type": "markdown",
   "metadata": {},
   "source": [
    "## Functional Programming\n",
    "\n",
    "*Exercise 5:* Write a function the applies a booling function (that returns true/false) to every element in data, and return a list of indices of elements where the result was true. Use this function to find the indices of entries greater than 0.5. "
   ]
  },
  {
   "cell_type": "code",
   "execution_count": 16,
   "metadata": {},
   "outputs": [],
   "source": [
    "\n",
    "def where(mylist, myfunc):\n",
    "    out = []\n",
    "    for i in range(len(mylist)):\n",
    "        if myfunc(mylist[i]):\n",
    "            out.append(i)\n",
    "    return out\n"
   ]
  },
  {
   "cell_type": "code",
   "execution_count": 17,
   "metadata": {},
   "outputs": [
    {
     "name": "stdout",
     "output_type": "stream",
     "text": [
      "Indices of elements greater than 0.5: [0, 4, 11, 16, 17, 18, 20, 21, 23, 24]\n"
     ]
    }
   ],
   "source": [
    "# Test your solution here\n",
    "indices = where(data, lambda x: x > 0.5)\n",
    "print(\"Indices of elements greater than 0.5:\", indices[:10])  # print first 10 indices\n"
   ]
  },
  {
   "cell_type": "markdown",
   "metadata": {},
   "source": [
    "*Exercise 6:* The `inrange(mymin,mymax)` function below returns a function that tests if it's input is between the specified values. Write corresponding functions that test:\n",
    "* Even\n",
    "* Odd\n",
    "* Greater than\n",
    "* Less than\n",
    "* Equal\n",
    "* Divisible by"
   ]
  },
  {
   "cell_type": "code",
   "execution_count": 20,
   "metadata": {},
   "outputs": [
    {
     "name": "stdout",
     "output_type": "stream",
     "text": [
      "True True False False False\n",
      "False False True True False\n",
      "Number of Entries passing F1: 501\n",
      "Number of Entries passing F2: 0\n"
     ]
    }
   ],
   "source": [
    "def in_range(mymin, mymax):\n",
    "    def testrange(x):\n",
    "        return x < mymax and x >= mymin\n",
    "    return testrange\n",
    "\n",
    "# Examples:\n",
    "F1 = in_range(0, 10)\n",
    "F2 = in_range(10, 20)\n",
    "\n",
    "# Test of in_range\n",
    "print(F1(0), F1(1), F1(10), F1(15), F1(20))\n",
    "print(F2(0), F2(1), F2(10), F2(15), F2(20))\n",
    "\n",
    "print(\"Number of Entries passing F1:\", len(where(data, F1)))\n",
    "print(\"Number of Entries passing F2:\", len(where(data, F2)))\n"
   ]
  },
  {
   "cell_type": "code",
   "execution_count": 19,
   "metadata": {},
   "outputs": [],
   "source": [
    "### BEGIN SOLUTION\n",
    "\n",
    "    # Fill in your solution here  \n",
    "def is_even():\n",
    "    def test(x):\n",
    "        return x % 2 == 0\n",
    "    return test\n",
    "\n",
    "\n",
    "def is_odd():\n",
    "    def test(x):\n",
    "        return x % 2 != 0\n",
    "    return test\n",
    "\n",
    "\n",
    "def greater_than(value):\n",
    "    def test(x):\n",
    "        return x > value\n",
    "    return test\n",
    "\n",
    "\n",
    "def less_than(value):\n",
    "    def test(x):\n",
    "        return x < value\n",
    "    return test\n",
    "\n",
    "\n",
    "def equal(value):\n",
    "    def test(x):\n",
    "        return x == value\n",
    "    return test\n",
    "\n",
    "\n",
    "def divisible_by(value):\n",
    "    def test(x):\n",
    "        return x % value == 0\n",
    "    return test\n",
    "\n",
    "    \n",
    "### END SOLUTION"
   ]
  },
  {
   "cell_type": "code",
   "execution_count": 21,
   "metadata": {},
   "outputs": [
    {
     "name": "stdout",
     "output_type": "stream",
     "text": [
      "Even count: 0\n",
      "Odd count: 1000\n",
      "Greater than 0: 501\n",
      "Less than 0: 499\n",
      "Equal to 5: 0\n",
      "Divisible by 3: 0\n"
     ]
    }
   ],
   "source": [
    "# Test your solution\n",
    "print(\"Even count:\", len(where(data, is_even())))\n",
    "print(\"Odd count:\", len(where(data, is_odd())))\n",
    "print(\"Greater than 0:\", len(where(data, greater_than(0))))\n",
    "print(\"Less than 0:\", len(where(data, less_than(0))))\n",
    "print(\"Equal to 5:\", len(where(data, equal(5))))\n",
    "print(\"Divisible by 3:\", len(where(data, divisible_by(3))))\n"
   ]
  },
  {
   "cell_type": "markdown",
   "metadata": {},
   "source": [
    "*Exercise 7:* Repeat the previous exercise using `lambda` and the built-in python functions sum and map instead of your solution above. "
   ]
  },
  {
   "cell_type": "code",
   "execution_count": 23,
   "metadata": {},
   "outputs": [
    {
     "name": "stdout",
     "output_type": "stream",
     "text": [
      "Even Count: 0\n",
      "Odd Count: 1000\n",
      "Greater than 0 Count: 501\n",
      "Less than 0 Count: 499\n",
      "Equal to 5 Count: 0\n",
      "Divisible by 3 Count: 0\n"
     ]
    }
   ],
   "source": [
    "### BEGIN SOLUTION\n",
    "# Count even numbers\n",
    "even_count = sum(map(lambda x: x % 2 == 0, data))\n",
    "\n",
    "# Count odd numbers\n",
    "odd_count = sum(map(lambda x: x % 2 != 0, data))\n",
    "\n",
    "# Count numbers greater than 0\n",
    "greater_than_0_count = sum(map(lambda x: x > 0, data))\n",
    "\n",
    "# Count numbers less than 0\n",
    "less_than_0_count = sum(map(lambda x: x < 0, data))\n",
    "\n",
    "# Count numbers equal to 5\n",
    "equal_5_count = sum(map(lambda x: x == 5, data))\n",
    "\n",
    "# Count numbers divisible by 3\n",
    "divisible_by_3_count = sum(map(lambda x: x % 3 == 0, data))\n",
    "\n",
    "    \n",
    "### END SOLUTION\n",
    "\n",
    "#test\n",
    "print(\"Even Count:\", even_count)\n",
    "print(\"Odd Count:\", odd_count)\n",
    "print(\"Greater than 0 Count:\", greater_than_0_count)\n",
    "print(\"Less than 0 Count:\", less_than_0_count)\n",
    "print(\"Equal to 5 Count:\", equal_5_count)\n",
    "print(\"Divisible by 3 Count:\", divisible_by_3_count)\n"
   ]
  },
  {
   "cell_type": "markdown",
   "metadata": {},
   "source": [
    "## Monte Carlo\n",
    "\n",
    "*Exercise 7:* Write a \"generator\" function called `generate_function(func,x_min,x_max,N)`, that instead of generating a flat distribution, generates a distribution with functional form coded in `func`. Note that `func` will always be > 0.  \n",
    "\n",
    "Use the test function below and your histogramming functions above to demonstrate that your generator is working properly.\n",
    "\n",
    "Hint: A simple, but slow, solution is to a draw random number `test_x` within the specified range and another number `p` between the `min` and `max` of the function (which you will have to determine). If `p<=function(test_x)`, then place `test_x` on the output. If not, repeat the process, drawing two new numbers. Repeat until you have the specified number of generated numbers, `N`. For this problem, it's OK to determine the `min` and `max` by numerically sampling the function.  "
   ]
  },
  {
   "cell_type": "code",
   "execution_count": 24,
   "metadata": {},
   "outputs": [],
   "source": [
    "\n",
    "def generate_function(func, x_min, x_max, N=1000):\n",
    "    out = []\n",
    "    \n",
    "    # Sample function values to estimate f_max\n",
    "    sample_points = [x_min + (x_max - x_min) * random.random() for _ in range(1000)]\n",
    "    f_values = [func(x) for x in sample_points]\n",
    "    f_max = max(f_values)\n",
    "\n",
    "    while len(out) < N:\n",
    "        test_x = random.uniform(x_min, x_max)\n",
    "        p = random.uniform(0, f_max)\n",
    "        \n",
    "        if p <= func(test_x):\n",
    "            out.append(test_x)\n",
    "    \n",
    "    return out\n"
   ]
  },
  {
   "cell_type": "code",
   "execution_count": 26,
   "metadata": {},
   "outputs": [
    {
     "name": "stdout",
     "output_type": "stream",
     "text": [
      "[-10.0, -9.0] : ###############\n",
      "[-9.0, -8.0] : #############\n",
      "[-8.0, -7.0] : ###########\n",
      "[-7.0, -6.0] : #########\n",
      "[-6.0, -5.0] : ########\n",
      "[-5.0, -4.0] : #######\n",
      "[-4.0, -3.0] : ####\n",
      "[-3.0, -2.0] : ##\n",
      "[-2.0, -1.0] : \n",
      "[-1.0, -0.0] : \n",
      "[-0.0, 1.0 ] : ##\n",
      "[ 1.0, 2.0 ] : ###\n",
      "[ 2.0, 3.0 ] : ######\n",
      "[ 3.0, 3.99] : ########\n",
      "[3.99, 4.99] : ##########\n",
      "[4.99, 5.99] : #############\n",
      "[5.99, 6.99] : ##############\n",
      "[6.99, 7.99] : ################\n",
      "[7.99, 8.99] : ################\n",
      "[8.99, 9.99] : ####################\n"
     ]
    },
    {
     "data": {
      "text/plain": [
       "([83,\n",
       "  71,\n",
       "  62,\n",
       "  52,\n",
       "  43,\n",
       "  42,\n",
       "  23,\n",
       "  13,\n",
       "  4,\n",
       "  5,\n",
       "  14,\n",
       "  18,\n",
       "  37,\n",
       "  46,\n",
       "  55,\n",
       "  74,\n",
       "  77,\n",
       "  89,\n",
       "  85,\n",
       "  106],\n",
       " [-9.996207685418545,\n",
       "  -8.996874689206962,\n",
       "  -7.9975416929953775,\n",
       "  -6.998208696783794,\n",
       "  -5.99887570057221,\n",
       "  -4.999542704360627,\n",
       "  -4.000209708149043,\n",
       "  -3.000876711937459,\n",
       "  -2.0015437157258757,\n",
       "  -1.0022107195142915,\n",
       "  -0.0028777233027081905,\n",
       "  0.9964552729088751,\n",
       "  1.9957882691204585,\n",
       "  2.995121265332042,\n",
       "  3.994454261543627,\n",
       "  4.99378725775521,\n",
       "  5.993120253966794,\n",
       "  6.992453250178377,\n",
       "  7.991786246389962,\n",
       "  8.991119242601544,\n",
       "  9.990452238813129])"
      ]
     },
     "execution_count": 26,
     "metadata": {},
     "output_type": "execute_result"
    }
   ],
   "source": [
    "# A test function\n",
    "def test_func(x, a=1, b=1):\n",
    "    return abs(a * x + b)\n",
    "\n",
    "# Generate Data using test_func\n",
    "generated_data = generate_function(lambda x: test_func(x, a=1, b=1), -10, 10, 1000)\n",
    "\n",
    "# Visualize\n",
    "h, b = histogram(generated_data, 20)\n",
    "draw_histogram(h, b)\n"
   ]
  },
  {
   "cell_type": "markdown",
   "metadata": {},
   "source": [
    "*Exercise 8:* Use your function to generate 1000 numbers that are normal distributed, using the `gaussian` function below. Confirm the mean and variance of the data is close to the mean and variance you specify when building the Gaussian. Histogram the data. "
   ]
  },
  {
   "cell_type": "code",
   "execution_count": 28,
   "metadata": {},
   "outputs": [
    {
     "name": "stdout",
     "output_type": "stream",
     "text": [
      "Mean of Gaussian Data: 0.0040523205238805\n",
      "Variance of Gaussian Data: 1.0194955774055638\n",
      "[-2.76, -2.48] : \n",
      "[-2.48, -2.19] : ##\n",
      "[-2.19, -1.9] : #\n",
      "[-1.9, -1.61] : ####\n",
      "[-1.61, -1.32] : ########\n",
      "[-1.32, -1.04] : ##########\n",
      "[-1.04, -0.75] : #############\n",
      "[-0.75, -0.46] : ##############\n",
      "[-0.46, -0.17] : ####################\n",
      "[-0.17, 0.12] : ################\n",
      "[0.12, 0.4 ] : ####################\n",
      "[ 0.4, 0.69] : ################\n",
      "[0.69, 0.98] : ###############\n",
      "[0.98, 1.27] : #########\n",
      "[1.27, 1.56] : ########\n",
      "[1.56, 1.84] : ####\n",
      "[1.84, 2.13] : ###\n",
      "[2.13, 2.42] : #\n",
      "[2.42, 2.71] : \n",
      "[2.71, 2.99] : \n"
     ]
    }
   ],
   "source": [
    "import math\n",
    "\n",
    "def gaussian(mean, sigma):\n",
    "    def f(x):\n",
    "        return math.exp(-((x-mean)**2)/(2*sigma**2))/math.sqrt(math.pi*sigma)\n",
    "    return f\n",
    "\n",
    "g = gaussian(0, 1)\n",
    "\n",
    "gaussian_data = generate_function(g, -5, 5, 1000)\n",
    "\n",
    "print(\"Mean of Gaussian Data:\", mean(gaussian_data))\n",
    "print(\"Variance of Gaussian Data:\", variance(gaussian_data))\n",
    "\n",
    "# Histogram\n",
    "h, b = histogram(gaussian_data, 20)\n",
    "draw_histogram(h, b)\n",
    "\n",
    "\n",
    "# Example Instantiation\n",
    "g1=gaussian(0,1)\n",
    "g2=gaussian(10,3)"
   ]
  },
  {
   "cell_type": "markdown",
   "metadata": {},
   "source": [
    "*Exercise 9:* Combine your `generate_function`, `where`, and `in_range` functions above to create an integrate function. Use your integrate function to show that approximately 68% of Normal distribution is within one variance."
   ]
  },
  {
   "cell_type": "code",
   "execution_count": 32,
   "metadata": {},
   "outputs": [],
   "source": [
    "\n",
    "def integrate(func, x_min, x_max, n_points=1000):\n",
    "    \n",
    "    data = generate_function(func, -5, 5, n_points)\n",
    "\n",
    "    total = len(data)\n",
    "\n",
    "    F = in_range(x_min, x_max)\n",
    "    count = len(where(data, F))\n",
    "\n",
    "    integral = count / total\n",
    "\n",
    "    return integral\n",
    "\n"
   ]
  },
  {
   "cell_type": "code",
   "execution_count": 39,
   "metadata": {},
   "outputs": [
    {
     "name": "stdout",
     "output_type": "stream",
     "text": [
      "Approximate Integral (-1 to 1): 0.6835\n"
     ]
    }
   ],
   "source": [
    "g = gaussian(0, 1)\n",
    "\n",
    "result = integrate(g, -1, 1, 10000)\n",
    "\n",
    "print(\"Approximate Integral (-1 to 1):\", result)\n"
   ]
  }
 ],
 "metadata": {
  "kernelspec": {
   "display_name": "Python 3 (ipykernel)",
   "language": "python",
   "name": "python3"
  },
  "language_info": {
   "codemirror_mode": {
    "name": "ipython",
    "version": 3
   },
   "file_extension": ".py",
   "mimetype": "text/x-python",
   "name": "python",
   "nbconvert_exporter": "python",
   "pygments_lexer": "ipython3",
   "version": "3.12.3"
  }
 },
 "nbformat": 4,
 "nbformat_minor": 2
}
