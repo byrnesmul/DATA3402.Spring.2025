{
 "cells": [
  {
   "cell_type": "markdown",
   "metadata": {},
   "source": [
    "# Lab 5\n"
   ]
  },
  {
   "cell_type": "markdown",
   "metadata": {},
   "source": [
    "Matrix Representation: In this lab you will be creating a simple linear algebra system. In memory, we will represent matrices as nested python lists as we have done in lecture. In the exercises below, you are required to explicitly test every feature you implement, demonstrating it works.\n",
    "\n",
    "1. Create a `matrix` class with the following properties:\n",
    "    * It can be initialized in 2 ways:\n",
    "        1. with arguments `n` and `m`, the size of the matrix. A newly instanciated matrix will contain all zeros.\n",
    "        2. with a list of lists of values. Note that since we are using lists of lists to implement matrices, it is possible that not all rows have the same number of columns. Test explicitly that the matrix is properly specified.\n",
    "    * Matrix instances `M` can be indexed with `M[i][j]` and `M[i,j]`.\n",
    "    * Matrix assignment works in 2 ways:\n",
    "        1. If `M_1` and `M_2` are `matrix` instances `M_1=M_2` sets the values of `M_1` to those of `M_2`, if they are the same size. Error otherwise.\n",
    "        2. In example above `M_2` can be a list of lists of correct size.\n"
   ]
  },
  {
   "cell_type": "markdown",
   "metadata": {},
   "source": [
    "2. Add the following methods:\n",
    "    * `shape()`: returns a tuple `(n,m)` of the shape of the matrix.\n",
    "    * `transpose()`: returns a new matrix instance which is the transpose of the matrix.\n",
    "    * `row(n)` and `column(n)`: that return the nth row or column of the matrix M as a new appropriately shaped matrix object.\n",
    "    * `to_list()`: which returns the matrix as a list of lists.\n",
    "    *  `block(n_0,n_1,m_0,m_1)` that returns a smaller matrix located at the n_0 to n_1 columns and m_0 to m_1 rows. \n",
    "    * (Extra credit) Modify `__getitem__` implemented above to support slicing.\n",
    "        "
   ]
  },
  {
   "cell_type": "markdown",
   "metadata": {},
   "source": [
    "3. Write functions that create special matrices (note these are standalone functions, not member functions of your `matrix` class):\n",
    "    * `constant(n,m,c)`: returns a `n` by `m` matrix filled with floats of value `c`.\n",
    "    * `zeros(n,m)` and `ones(n,m)`: return `n` by `m` matrices filled with floats of value `0` and `1`, respectively.\n",
    "    * `eye(n)`: returns the n by n identity matrix."
   ]
  },
  {
   "cell_type": "markdown",
   "metadata": {},
   "source": [
    "4. Add the following member functions to your class. Make sure to appropriately test the dimensions of the matrices to make sure the operations are correct.\n",
    "    * `M.scalarmul(c)`: a matrix that is scalar product $cM$, where every element of $M$ is multiplied by $c$.\n",
    "    * `M.add(N)`: adds two matrices $M$ and $N$. Don’t forget to test that the sizes of the matrices are compatible for this and all other operations.\n",
    "    * `M.sub(N)`: subtracts two matrices $M$ and $N$.\n",
    "    * `M.mat_mult(N)`: returns a matrix that is the matrix product of two matrices $M$ and $N$.\n",
    "    * `M.element_mult(N)`: returns a matrix that is the element-wise product of two matrices $M$ and $N$.\n",
    "    * `M.equals(N)`: returns true/false if $M==N$."
   ]
  },
  {
   "cell_type": "markdown",
   "metadata": {},
   "source": [
    "5. Overload python operators to appropriately use your functions in 4 and allow expressions like:\n",
    "    * 2*M\n",
    "    * M*2\n",
    "    * M+N\n",
    "    * M-N\n",
    "    * M*N\n",
    "    * M==N\n",
    "    * M=N\n"
   ]
  },
  {
   "cell_type": "markdown",
   "metadata": {},
   "source": [
    "6. Demonstrate the basic properties of matrices with your matrix class by creating two 2 by 2 example matrices using your Matrix class and illustrating the following:\n",
    "\n",
    "$$\n",
    "(AB)C=A(BC)\n",
    "$$\n",
    "$$\n",
    "A(B+C)=AB+AC\n",
    "$$\n",
    "$$\n",
    "AB\\neq BA\n",
    "$$\n",
    "$$\n",
    "AI=A\n",
    "$$"
   ]
  },
  {
   "cell_type": "code",
   "execution_count": 2,
   "metadata": {},
   "outputs": [
    {
     "name": "stdout",
     "output_type": "stream",
     "text": [
      "(AB)C = A(BC): True\n",
      "A(B+C) = AB + AC: True\n",
      "AB ≠ BA: True\n",
      "AI = A: True\n"
     ]
    }
   ],
   "source": [
    "class Matrix:\n",
    "    def __init__(self, n, m=None):\n",
    "        if isinstance(n, list):  # Initialize from list of lists\n",
    "            if not all(isinstance(row, list) for row in n):\n",
    "                raise ValueError(\"Matrix must be initialized with a list of lists.\")\n",
    "            if not all(len(row) == len(n[0]) for row in n):\n",
    "                raise ValueError(\"All rows must have the same length.\")\n",
    "            self.data = [row[:] for row in n]\n",
    "        elif isinstance(n, int) and isinstance(m, int):  # Initialize from dimensions\n",
    "            self.data = [[0] * m for _ in range(n)]\n",
    "        else:\n",
    "            raise ValueError(\"Invalid initialization parameters.\")\n",
    "    \n",
    "    def shape(self):\n",
    "        return len(self.data), len(self.data[0])\n",
    "    \n",
    "    def transpose(self):\n",
    "        transposed = [[self.data[j][i] for j in range(len(self.data))] for i in range(len(self.data[0]))]\n",
    "        return Matrix(transposed)\n",
    "    \n",
    "    def row(self, n):\n",
    "        return Matrix([self.data[n][:]])\n",
    "    \n",
    "    def column(self, n):\n",
    "        return Matrix([[row[n]] for row in self.data])\n",
    "    \n",
    "    def to_list(self):\n",
    "        return [row[:] for row in self.data]\n",
    "    \n",
    "    def block(self, n_0, n_1, m_0, m_1):\n",
    "        return Matrix([row[m_0:m_1] for row in self.data[n_0:n_1]])\n",
    "    \n",
    "    def __getitem__(self, index):\n",
    "        if isinstance(index, tuple):\n",
    "            i, j = index\n",
    "            return self.data[i][j]\n",
    "        return self.data[index]\n",
    "    \n",
    "    def __setitem__(self, index, value):\n",
    "        if isinstance(index, tuple):\n",
    "            i, j = index\n",
    "            self.data[i][j] = value\n",
    "        else:\n",
    "            self.data[index] = value\n",
    "    \n",
    "    def __mul__(self, other):\n",
    "        if isinstance(other, (int, float)):\n",
    "            return self.scalarmul(other)\n",
    "        elif isinstance(other, Matrix):\n",
    "            return self.mat_mult(other)\n",
    "        else:\n",
    "            raise ValueError(\"Unsupported operand type for multiplication.\")\n",
    "    \n",
    "    def __rmul__(self, other):\n",
    "        return self.__mul__(other)\n",
    "    \n",
    "    def __add__(self, other):\n",
    "        return self.add(other)\n",
    "    \n",
    "    def __sub__(self, other):\n",
    "        return self.sub(other)\n",
    "    \n",
    "    def __eq__(self, other):\n",
    "        return self.equals(other)\n",
    "    \n",
    "    def __repr__(self):\n",
    "        return f\"Matrix({self.to_list()})\"\n",
    "    \n",
    "    def scalarmul(self, c):\n",
    "        return Matrix([[c * elem for elem in row] for row in self.data])\n",
    "    \n",
    "    def add(self, N):\n",
    "        if self.shape() != N.shape():\n",
    "            raise ValueError(\"Matrix dimensions must match for addition.\")\n",
    "        return Matrix([[self.data[i][j] + N[i, j] for j in range(len(self.data[0]))] for i in range(len(self.data))])\n",
    "    \n",
    "    def sub(self, N):\n",
    "        if self.shape() != N.shape():\n",
    "            raise ValueError(\"Matrix dimensions must match for subtraction.\")\n",
    "        return Matrix([[self.data[i][j] - N[i, j] for j in range(len(self.data[0]))] for i in range(len(self.data))])\n",
    "    \n",
    "    def mat_mult(self, N):\n",
    "        if self.shape()[1] != N.shape()[0]:\n",
    "            raise ValueError(\"Matrix dimensions must be compatible for multiplication.\")\n",
    "        return Matrix([[sum(self.data[i][k] * N[k, j] for k in range(self.shape()[1])) for j in range(N.shape()[1])] for i in range(self.shape()[0])])\n",
    "    \n",
    "    def element_mult(self, N):\n",
    "        if self.shape() != N.shape():\n",
    "            raise ValueError(\"Matrix dimensions must match for element-wise multiplication.\")\n",
    "        return Matrix([[self.data[i][j] * N[i, j] for j in range(len(self.data[0]))] for i in range(len(self.data))])\n",
    "    \n",
    "    def equals(self, N):\n",
    "        return self.shape() == N.shape() and all(self.data[i][j] == N[i, j] for i in range(len(self.data)) for j in range(len(self.data[0])))\n",
    "    \n",
    "# Standalone functions\n",
    "def constant(n, m, c):\n",
    "    return Matrix([[float(c)] * m for _ in range(n)])\n",
    "\n",
    "def zeros(n, m):\n",
    "    return constant(n, m, 0)\n",
    "\n",
    "def ones(n, m):\n",
    "    return constant(n, m, 1)\n",
    "\n",
    "def eye(n):\n",
    "    return Matrix([[1 if i == j else 0 for j in range(n)] for i in range(n)])\n",
    "\n",
    "\n",
    "# Demonstration\n",
    "def demonstrate_matrix_properties():\n",
    "    A = Matrix([[1, 2], [3, 4]])\n",
    "    B = Matrix([[2, 0], [1, 3]])\n",
    "    C = Matrix([[0, 1], [2, 1]])\n",
    "    I = eye(2)\n",
    "    \n",
    "    print(\"(AB)C = A(BC):\", (A * B) * C == A * (B * C))\n",
    "    print(\"A(B+C) = AB + AC:\", A * (B + C) == A * B + A * C)\n",
    "    print(\"AB ≠ BA:\", A * B != B * A)\n",
    "    print(\"AI = A:\", A * I == A)\n",
    "\n",
    "demonstrate_matrix_properties()\n"
   ]
  },
  {
   "cell_type": "code",
   "execution_count": null,
   "metadata": {},
   "outputs": [],
   "source": []
  }
 ],
 "metadata": {
  "kernelspec": {
   "display_name": "Python 3 (ipykernel)",
   "language": "python",
   "name": "python3"
  },
  "language_info": {
   "codemirror_mode": {
    "name": "ipython",
    "version": 3
   },
   "file_extension": ".py",
   "mimetype": "text/x-python",
   "name": "python",
   "nbconvert_exporter": "python",
   "pygments_lexer": "ipython3",
   "version": "3.12.3"
  }
 },
 "nbformat": 4,
 "nbformat_minor": 2
}
